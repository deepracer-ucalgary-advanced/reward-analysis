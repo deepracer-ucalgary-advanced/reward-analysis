{
 "cells": [
  {
   "cell_type": "markdown",
   "metadata": {},
   "source": [
    "# Time Test\n",
    "\n",
    "This notebook is designed to test out how fast your reward function is to compute.\n",
    "\n",
    "Simply replace the reward function with your own and go to the last cell to see the timing."
   ]
  },
  {
   "cell_type": "code",
   "execution_count": 1,
   "metadata": {},
   "outputs": [],
   "source": [
    "# this will get run and tested, so do any imports within the triple quotations\n",
    "reward_function_code = \"\"\"\n",
    "def reward_function(params):\n",
    "\n",
    "    # below 3 lines are used to just slow down the code as an example\n",
    "    temp = 0\n",
    "    for i in range(100):\n",
    "        temp += i\n",
    "\n",
    "    # Example of rewarding the agent to follow center line\n",
    "\n",
    "    # Read input parameters\n",
    "    track_width = params['track_width']\n",
    "    distance_from_center = params['distance_from_center']\n",
    "\n",
    "    # Calculate 3 markers that are at varying distances away from the center line\n",
    "    marker_1 = 0.1 * track_width\n",
    "    marker_2 = 0.25 * track_width\n",
    "    marker_3 = 0.5 * track_width\n",
    "\n",
    "    # Give higher reward if the car is closer to center line and vice versa\n",
    "    if distance_from_center <= marker_1:\n",
    "        reward = 1.0\n",
    "    elif distance_from_center <= marker_2:\n",
    "        reward = 0.5\n",
    "    elif distance_from_center <= marker_3:\n",
    "        reward = 0.1\n",
    "    else:\n",
    "        reward = 1e-3 # likely crashed/ close to off track\n",
    "\n",
    "    return float(reward)\n",
    "\"\"\""
   ]
  },
  {
   "cell_type": "code",
   "execution_count": 2,
   "metadata": {},
   "outputs": [],
   "source": [
    "# some sample parameters are used to test out almost every type of model\n",
    "# TODO: feed different data to model to get more well rounded timing\n",
    "setup_code = \"\"\"\n",
    "params = {\n",
    "    \"all_wheels_on_track\": True,        # flag to indicate if the agent is on the track\n",
    "    \"x\": 1.1,                            # agent's x-coordinate in meters\n",
    "    \"y\": 1.2,                            # agent's y-coordinate in meters\n",
    "    # \"closest_objects\": [int, int],         # zero-based indices of the two closest objects to the agent's current position of (x, y).\n",
    "    \"closest_waypoints\": [4, 5],       # indices of the two nearest waypoints.\n",
    "    \"distance_from_center\": 0.23,         # distance in meters from the track center \n",
    "    \"is_crashed\": False,                 # Boolean flag to indicate whether the agent has crashed.\n",
    "    \"is_left_of_center\": True,          # Flag to indicate if the agent is on the left side to the track center or not. \n",
    "    \"is_offtrack\": False,                # Boolean flag to indicate whether the agent has gone off track.\n",
    "    \"is_reversed\": False,                # flag to indicate if the agent is driving clockwise (True) or counter clockwise (False).\n",
    "    \"heading\": 5,                      # agent's yaw in degrees\n",
    "    # \"objects_distance\": [float, ],         # list of the objects' distances in meters between 0 and track_length in relation to the starting line.\n",
    "    # \"objects_heading\": [float, ],          # list of the objects' headings in degrees between -180 and 180.\n",
    "    # \"objects_left_of_center\": [Boolean, ], # list of Boolean flags indicating whether elements' objects are left of the center (True) or not (False).\n",
    "    # \"objects_location\": [(float, float),], # list of object locations [(x,y), ...].\n",
    "    # \"objects_speed\": [float, ],            # list of the objects' speeds in meters per second.\n",
    "    \"progress\": 30,                     # percentage of track completed\n",
    "    \"speed\": 0.94,                        # agent's speed in meters per second (m/s)\n",
    "    \"steering_angle\": -3,               # agent's steering angle in degrees\n",
    "    \"steps\": 5,                          # number steps completed\n",
    "    \"track_length\": 13,                 # track length in meters.\n",
    "    \"track_width\": 1.2,                  # width of the track\n",
    "    \"waypoints\": [(0, 0.1), (0.4, 0.4),(0.6, 0.6),(0.8, 0.8),(1, 1.1),(1.3, 1.4), (1.3, 1.4), (1.6, 1.7), (2.0, 2.0), (2.2, 2.0)]        # list of (x,y) as milestones along the track center\n",
    "}\n",
    "\"\"\""
   ]
  },
  {
   "cell_type": "code",
   "execution_count": 3,
   "metadata": {},
   "outputs": [
    {
     "name": "stdout",
     "output_type": "stream",
     "text": [
      "About 14.85 times slower than the simple default model\n"
     ]
    }
   ],
   "source": [
    "from timeit import Timer\n",
    "\n",
    "setup_code = setup_code + reward_function_code\n",
    "\n",
    "# first argument is the code to be run, the second \"setup\" argument is only run once,\n",
    "# and it not included in the execution time.\n",
    "t = Timer(\"\"\"reward_function(params)\"\"\", setup=setup_code)\n",
    "\n",
    "print(f'About {round(t.timeit()/0.26783748900925275, 2)} times slower than the simple default model')"
   ]
  }
 ],
 "metadata": {
  "kernelspec": {
   "display_name": "Python 3.10.6 ('deepracer')",
   "language": "python",
   "name": "python3"
  },
  "language_info": {
   "codemirror_mode": {
    "name": "ipython",
    "version": 3
   },
   "file_extension": ".py",
   "mimetype": "text/x-python",
   "name": "python",
   "nbconvert_exporter": "python",
   "pygments_lexer": "ipython3",
   "version": "3.10.6"
  },
  "orig_nbformat": 4,
  "vscode": {
   "interpreter": {
    "hash": "6f51ba79e5ccd9dc94c7537493a093f24070b95dc26e5507c706b310d2b3a705"
   }
  }
 },
 "nbformat": 4,
 "nbformat_minor": 2
}
